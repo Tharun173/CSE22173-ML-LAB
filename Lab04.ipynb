{
  "nbformat": 4,
  "nbformat_minor": 0,
  "metadata": {
    "colab": {
      "provenance": [],
      "authorship_tag": "ABX9TyOe333BRJA0aMrUBCkfqiZQ",
      "include_colab_link": true
    },
    "kernelspec": {
      "name": "python3",
      "display_name": "Python 3"
    },
    "language_info": {
      "name": "python"
    }
  },
  "cells": [
    {
      "cell_type": "markdown",
      "metadata": {
        "id": "view-in-github",
        "colab_type": "text"
      },
      "source": [
        "<a href=\"https://colab.research.google.com/github/Tharun173/CSE22173-ML-LAB/blob/main/Lab04.ipynb\" target=\"_parent\"><img src=\"https://colab.research.google.com/assets/colab-badge.svg\" alt=\"Open In Colab\"/></a>"
      ]
    },
    {
      "cell_type": "code",
      "execution_count": 10,
      "metadata": {
        "id": "KeeGlH4ecosF"
      },
      "outputs": [],
      "source": [
        "import numpy as np\n",
        "import pandas as pd\n",
        "import matplotlib.pyplot as plt\n",
        "import seaborn as sns\n",
        "data=pd.read_excel('/content/ML_lab3.xlsx')"
      ]
    },
    {
      "cell_type": "code",
      "source": [
        "from sklearn.model_selection import train_test_split\n",
        "from sklearn.neighbors import KNeighborsClassifier\n",
        "from sklearn.metrics import accuracy_score,confusion_matrix,classification_report\n",
        "#CLASSIFICATION OF DATA INTO TRAINING AND TESTING DATA\n",
        "X=data.drop(columns=['LABEL'],axis=1)\n",
        "Y=data['LABEL']\n",
        "X_train,X_test,Y_train,Y_test=train_test_split(X,Y,test_size=0.3,random_state=2)\n",
        "#FINDING REPORT FOR TRAINING DATA\n",
        "knn=KNeighborsClassifier(n_neighbors=3)\n",
        "knn.fit(X_train,Y_train)\n",
        "cm=confusion_matrix(Y_test,knn.predict(X_test))\n",
        "print(cm)\n",
        "print(classification_report(Y_test,knn.predict(X_test)))"
      ],
      "metadata": {
        "id": "9P_aDwuLq5sP",
        "outputId": "d3cf6830-f4b0-4b1e-b035-d51cf368d467",
        "colab": {
          "base_uri": "https://localhost:8080/"
        }
      },
      "execution_count": 12,
      "outputs": [
        {
          "output_type": "stream",
          "name": "stdout",
          "text": [
            "[[17  0]\n",
            " [ 0 10]]\n",
            "              precision    recall  f1-score   support\n",
            "\n",
            "        3333       1.00      1.00      1.00        17\n",
            "        3334       1.00      1.00      1.00        10\n",
            "\n",
            "    accuracy                           1.00        27\n",
            "   macro avg       1.00      1.00      1.00        27\n",
            "weighted avg       1.00      1.00      1.00        27\n",
            "\n"
          ]
        }
      ]
    },
    {
      "cell_type": "code",
      "source": [
        "cm=confusion_matrix(Y_train,knn.predict(X_train))\n",
        "print(cm)\n",
        "print(classification_report(Y_train,knn.predict(X_train)))"
      ],
      "metadata": {
        "id": "keLPy8LbG5dv",
        "outputId": "7947b342-ccc2-444d-c92a-3491fbf4f39e",
        "colab": {
          "base_uri": "https://localhost:8080/"
        }
      },
      "execution_count": 14,
      "outputs": [
        {
          "output_type": "stream",
          "name": "stdout",
          "text": [
            "[[35  0]\n",
            " [ 0 27]]\n",
            "              precision    recall  f1-score   support\n",
            "\n",
            "        3333       1.00      1.00      1.00        35\n",
            "        3334       1.00      1.00      1.00        27\n",
            "\n",
            "    accuracy                           1.00        62\n",
            "   macro avg       1.00      1.00      1.00        62\n",
            "weighted avg       1.00      1.00      1.00        62\n",
            "\n"
          ]
        }
      ]
    },
    {
      "cell_type": "markdown",
      "source": [
        "IT IS REGULAR FIT"
      ],
      "metadata": {
        "id": "MSmbPn12H-mm"
      }
    },
    {
      "cell_type": "code",
      "source": [],
      "metadata": {
        "id": "fa4MUWGvHaxJ"
      },
      "execution_count": null,
      "outputs": []
    }
  ]
}