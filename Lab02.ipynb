{
  "nbformat": 4,
  "nbformat_minor": 0,
  "metadata": {
    "colab": {
      "provenance": [],
      "include_colab_link": true
    },
    "kernelspec": {
      "name": "python3",
      "display_name": "Python 3"
    },
    "language_info": {
      "name": "python"
    }
  },
  "cells": [
    {
      "cell_type": "markdown",
      "metadata": {
        "id": "view-in-github",
        "colab_type": "text"
      },
      "source": [
        "<a href=\"https://colab.research.google.com/github/Tharun173/CSE22173-ML-LAB/blob/main/Lab02.ipynb\" target=\"_parent\"><img src=\"https://colab.research.google.com/assets/colab-badge.svg\" alt=\"Open In Colab\"/></a>"
      ]
    },
    {
      "cell_type": "code",
      "execution_count": null,
      "metadata": {
        "colab": {
          "base_uri": "https://localhost:8080/"
        },
        "id": "SEtYtcfHVWYM",
        "outputId": "401ca350-bdf3-4e83-d700-1f9a3c7da2b6"
      },
      "outputs": [
        {
          "output_type": "stream",
          "name": "stdout",
          "text": [
            "Dimensionality of the vector space: 3\n",
            "Number of vectors in the vector space: 10\n",
            "Rank of Matrix A: 3\n",
            "Cost of each product: [ 1. 55. 18.]\n"
          ]
        }
      ],
      "source": [
        "# nA1\n",
        "\n",
        "import pandas as pd\n",
        "import numpy as np\n",
        "import matplotlib.pyplot as plt\n",
        "import seaborn as sns\n",
        "\n",
        "purchase_data = pd.read_excel('Lab Session Data.xlsx' , sheet_name='Purchase data')\n",
        "\n",
        "\n",
        "\n",
        "A = purchase_data.iloc[:,1:4].values\n",
        "C = purchase_data.iloc[:,4].values\n",
        "\n",
        "# Dimensionality of Vector space\n",
        "\n",
        "dimensionality = A.shape[1]\n",
        "\n",
        "num_vectors = A.shape[0]\n",
        "\n",
        "rank_A = np.linalg.matrix_rank(A)\n",
        "\n",
        "# pseudo inverse of A\n",
        "\n",
        "A_pinv = np.linalg.pinv(A)\n",
        "\n",
        "# Cost of each product\n",
        "product_costs = A_pinv.dot(C)\n",
        "\n",
        "\n",
        "# Output the results\n",
        "print(f\"Dimensionality of the vector space: {dimensionality}\")\n",
        "print(f\"Number of vectors in the vector space: {num_vectors}\")\n",
        "print(f\"Rank of Matrix A: {rank_A}\")\n",
        "print(\"Cost of each product:\", product_costs)"
      ]
    },
    {
      "cell_type": "markdown",
      "source": [],
      "metadata": {
        "id": "Lgiu2eG8fBRp"
      }
    },
    {
      "cell_type": "code",
      "source": [
        "# A2\n",
        "\n",
        "# Model vector X\n",
        "\n",
        "X = A_pinv.dot(C)\n",
        "X"
      ],
      "metadata": {
        "id": "TY5BrXzUVaML",
        "colab": {
          "base_uri": "https://localhost:8080/"
        },
        "outputId": "c303936e-f0fc-4d96-b16d-01abda6788d9"
      },
      "execution_count": null,
      "outputs": [
        {
          "output_type": "execute_result",
          "data": {
            "text/plain": [
              "array([ 1., 55., 18.])"
            ]
          },
          "metadata": {},
          "execution_count": 6
        }
      ]
    },
    {
      "cell_type": "code",
      "source": [
        "# A3\n",
        "\n",
        "from sklearn.model_selection import train_test_split\n",
        "from sklearn.linear_model import LogisticRegression\n",
        "from sklearn.metrics import accuracy_score,classification_report\n",
        "\n",
        "purchase_data['Classification']=np.where(purchase_data['Payment (Rs)'] > 200 ,'RICH','POOR')\n",
        "\n",
        "\n",
        "M = purchase_data.iloc[:,1:4].values\n",
        "N = purchase_data['Classification'].values\n",
        "\n",
        "M_train, M_test, N_train, N_test = train_test_split(M, N, test_size=0.4, random_state=42)\n",
        "\n",
        "classifier = LogisticRegression()\n",
        "classifier.fit(M_train, N_train)\n",
        "\n",
        "N_pred = classifier.predict(M_test)\n",
        "\n",
        "accuracy = accuracy_score(N_test, N_pred)\n",
        "classification_rep = classification_report(N_test, N_pred)\n",
        "\n",
        "print(f\"Accuracy: {accuracy}\")\n",
        "print(\"Classification Report:\")\n",
        "print(classification_rep)"
      ],
      "metadata": {
        "colab": {
          "base_uri": "https://localhost:8080/"
        },
        "id": "LZJyQEBkmJ3A",
        "outputId": "ed8f62bc-49c0-472f-9201-ef1facf650e6"
      },
      "execution_count": null,
      "outputs": [
        {
          "output_type": "stream",
          "name": "stdout",
          "text": [
            "Accuracy: 0.75\n",
            "Classification Report:\n",
            "              precision    recall  f1-score   support\n",
            "\n",
            "        POOR       0.67      1.00      0.80         2\n",
            "        RICH       1.00      0.50      0.67         2\n",
            "\n",
            "    accuracy                           0.75         4\n",
            "   macro avg       0.83      0.75      0.73         4\n",
            "weighted avg       0.83      0.75      0.73         4\n",
            "\n"
          ]
        }
      ]
    },
    {
      "cell_type": "code",
      "source": [
        "# A4\n",
        "\n",
        "import pandas as pd\n",
        "import numpy as np\n",
        "import statistics\n",
        "import matplotlib.pyplot as plt\n",
        "\n",
        "stock_data = pd.read_excel('Lab Session Data.xlsx',sheet_name='IRCTC Stock Price')\n",
        "\n",
        "\n",
        "mean = statistics.mean(stock_data['Price'])\n",
        "variance = statistics.variance(stock_data['Price'])\n",
        "\n",
        "wed_data = stock_data['Day'] =='Wed'\n",
        "wed_data_values = stock_data[wed_data]\n",
        "\n",
        "wed_data_mean = statistics.mean(wed_data_values['Price'])\n",
        "\n",
        "print(f\"The wed data mean is {wed_data_mean} and pop mean is {mean}\")\n",
        "\n",
        "april_data = stock_data['Month'] == 'Apr'\n",
        "april_data_values = stock_data[april_data]\n",
        "\n",
        "april_data_mean = statistics.mean(april_data_values['Price'])\n",
        "\n",
        "\n",
        "print(f\"The april data mean is {april_data_mean} and pop mean is {mean}\")\n",
        "\n"
      ],
      "metadata": {
        "colab": {
          "base_uri": "https://localhost:8080/"
        },
        "id": "O7eJLsSSn0z5",
        "outputId": "b5e92356-2d58-477f-d3b7-89d5e6a817c5"
      },
      "execution_count": null,
      "outputs": [
        {
          "output_type": "stream",
          "name": "stdout",
          "text": [
            "The wed data mean is 1550.706 and pop mean is 1560.663453815261\n",
            "The april data mean is 1698.9526315789474 and pop mean is 1560.663453815261\n"
          ]
        }
      ]
    },
    {
      "cell_type": "code",
      "source": [
        "chg_data = stock_data['Chg%'].apply(lambda x: float(x.strip('%')) if isinstance(x, str) else x)\n",
        "\n",
        "chg_loss_data = chg_data < 0\n",
        "chg_loss_data_values = chg_data[chg_loss_data]\n",
        "\n",
        "prob_loss = len(chg_loss_data_values) / len(chg_data)\n",
        "\n",
        "print(f\"The probability of loss is {prob_loss}\")\n",
        "\n",
        "\n",
        "wed_data_chg = wed_data_values['Chg%'].apply(lambda x: float(x.strip('%')) if isinstance(x, str) else x)\n",
        "wed_data_profit_chg = wed_data_chg > 0\n",
        "wed_data_profit_chg_values = wed_data_chg[wed_data_profit_chg]\n",
        "\n",
        "prob_profit_wed = len(wed_data_profit_chg_values)/len(wed_data_chg)\n",
        "\n",
        "print(f\"The probability of profit on Wednesday is {prob_profit_wed}\")\n",
        "\n",
        "prob_of_wed = len(stock_data[stock_data['Day'] == 'Wed'])/len(stock_data)\n",
        "\n",
        "prob_of_profit_given_wed = prob_profit_wed/prob_of_wed\n",
        "\n",
        "print(f\"The probability of profit given today is Wednesday is {prob_of_profit_given_wed}\")\n",
        "\n",
        "\n"
      ],
      "metadata": {
        "colab": {
          "base_uri": "https://localhost:8080/"
        },
        "id": "pTdPQ1hOsO4d",
        "outputId": "c68e31e2-1423-44ab-b1b7-6893e1c7851a"
      },
      "execution_count": null,
      "outputs": [
        {
          "output_type": "stream",
          "name": "stdout",
          "text": [
            "The probability of loss is 0.4979919678714859\n",
            "The probability of profit on Wednesday is 0.42\n",
            "The probability of profit given today is Wednesday is 2.0916\n"
          ]
        }
      ]
    },
    {
      "cell_type": "code",
      "source": [
        "#scatter plot\n",
        "import matplotlib.pyplot as plt\n",
        "\n",
        "days = ['Mon' ,'Tue' ,'Wed' ,'Thu' ,'Fri']\n",
        "series_list =[]\n",
        "for day in days:\n",
        "    day_data = stock_data[stock_data['Day'] == day]['Chg%']\n",
        "    series_list.append(day_data)\n",
        "\n",
        "\n",
        "# print(['Mon'] * len(day_data))\n",
        "# plt.scatter(days, series_list\n",
        "# Plot each series individually\n",
        "for day, day_data in zip(days, series_list):\n",
        "    plt.scatter([day] * len(day_data), day_data)\n",
        "\n",
        "plt.xlabel('Day')\n",
        "plt.ylabel('Change (%)')\n",
        "plt.title('Scatter Plot of Stock Changes by Day')\n",
        "plt.show()\n"
      ],
      "metadata": {
        "colab": {
          "base_uri": "https://localhost:8080/",
          "height": 472
        },
        "id": "-MqT1NT50KMz",
        "outputId": "f92bfae6-93e2-4e95-f7b9-576366dbbe1a"
      },
      "execution_count": null,
      "outputs": [
        {
          "output_type": "display_data",
          "data": {
            "text/plain": [
              "<Figure size 640x480 with 1 Axes>"
            ],
            "image/png": "[encoded data removed]"
          },
          "metadata": {}
        }
      ]
    },
    {
      "cell_type": "code",
      "source": [],
      "metadata": {
        "id": "WOrfPiQNc1M7"
      },
      "execution_count": null,
      "outputs": []
    },
    {
      "cell_type": "code",
      "source": [
        "from sklearn.preprocessing import LabelEncoder\n",
        "\n",
        "thyroid_data = pd.read_excel('Lab Session Data.xlsx' , sheet_name='thyroid0387_UCI')\n",
        "\n",
        "thyroid_data.dtypes\n",
        "\n",
        "\n",
        "def find_category(thyroid_data):\n",
        "    nominal_columns =[]\n",
        "    ordinal_columns =[]\n",
        "    for column in thyroid_data.columns:\n",
        "        unique_values = column.unique() if not isinstance(column, str) else thyroid_data[column]\n",
        "        if thyroid_data[column].dtype == 'object' and column not in ['Record ID' ,'age']:\n",
        "          nominal_columns.append(column)\n",
        "        elif thyroid_data[column].dtype in ['int64' ,'float64'] or column in ['age']:\n",
        "          ordinal_columns.append(column)\n",
        "        else:\n",
        "            if set(unique_values) <= {'t' ,'f' ,'?' ,'other'}:\n",
        "                nominal_columns.append(column)\n",
        "            else:\n",
        "                ordinal_columns.append(column)\n",
        "    return nominal_columns , ordinal_columns\n",
        "\n",
        "nominal_columns , ordinal_columns = find_category(thyroid_data)\n",
        "\n",
        "\n",
        "# print(f\"Nominal columns: {nominal_columns}\")\n",
        "# print(f\"Ordinal columns: {ordinal_columns}\")\n",
        "\n",
        "#label encoding\n",
        "\n",
        "\n",
        "\n",
        "\n"
      ],
      "metadata": {
        "colab": {
          "base_uri": "https://localhost:8080/",
          "height": 1000
        },
        "outputId": "db49993f-369d-4b21-c85d-7daafbeefd82",
        "id": "AFXP74AqBdAk"
      },
      "execution_count": null,
      "outputs": [
        {
          "output_type": "execute_result",
          "data": {
            "text/plain": [
              "Record ID                     int64\n",
              "age                           int64\n",
              "sex                          object\n",
              "on thyroxine                 object\n",
              "query on thyroxine           object\n",
              "on antithyroid medication    object\n",
              "sick                         object\n",
              "pregnant                     object\n",
              "thyroid surgery              object\n",
              "I131 treatment               object\n",
              "query hypothyroid            object\n",
              "query hyperthyroid           object\n",
              "lithium                      object\n",
              "goitre                       object\n",
              "tumor                        object\n",
              "hypopituitary                object\n",
              "psych                        object\n",
              "TSH measured                 object\n",
              "TSH                          object\n",
              "T3 measured                  object\n",
              "T3                           object\n",
              "TT4 measured                 object\n",
              "TT4                          object\n",
              "T4U measured                 object\n",
              "T4U                          object\n",
              "FTI measured                 object\n",
              "FTI                          object\n",
              "TBG measured                 object\n",
              "TBG                          object\n",
              "referral source              object\n",
              "Condition                    object\n",
              "dtype: object"
            ],
            "text/html": [
              "<table border=\"1\" class=\"dataframe\">\n",
              "  <thead>\n",
              "    <tr style=\"text-align: right;\">\n",
              "      <th></th>\n",
              "      <th>0</th>\n",
              "    </tr>\n",
              "  </thead>\n",
              "  <tbody>\n",
              "    <tr>\n",
              "      <th>Record ID</th>\n",
              "      <td>int64</td>\n",
              "    </tr>\n",
              "    <tr>\n",
              "      <th>age</th>\n",
              "      <td>int64</td>\n",
              "    </tr>\n",
              "    <tr>\n",
              "      <th>sex</th>\n",
              "      <td>object</td>\n",
              "    </tr>\n",
              "    <tr>\n",
              "      <th>on thyroxine</th>\n",
              "      <td>object</td>\n",
              "    </tr>\n",
              "    <tr>\n",
              "      <th>query on thyroxine</th>\n",
              "      <td>object</td>\n",
              "    </tr>\n",
              "    <tr>\n",
              "      <th>on antithyroid medication</th>\n",
              "      <td>object</td>\n",
              "    </tr>\n",
              "    <tr>\n",
              "      <th>sick</th>\n",
              "      <td>object</td>\n",
              "    </tr>\n",
              "    <tr>\n",
              "      <th>pregnant</th>\n",
              "      <td>object</td>\n",
              "    </tr>\n",
              "    <tr>\n",
              "      <th>thyroid surgery</th>\n",
              "      <td>object</td>\n",
              "    </tr>\n",
              "    <tr>\n",
              "      <th>I131 treatment</th>\n",
              "      <td>object</td>\n",
              "    </tr>\n",
              "    <tr>\n",
              "      <th>query hypothyroid</th>\n",
              "      <td>object</td>\n",
              "    </tr>\n",
              "    <tr>\n",
              "      <th>query hyperthyroid</th>\n",
              "      <td>object</td>\n",
              "    </tr>\n",
              "    <tr>\n",
              "      <th>lithium</th>\n",
              "      <td>object</td>\n",
              "    </tr>\n",
              "    <tr>\n",
              "      <th>goitre</th>\n",
              "      <td>object</td>\n",
              "    </tr>\n",
              "    <tr>\n",
              "      <th>tumor</th>\n",
              "      <td>object</td>\n",
              "    </tr>\n",
              "    <tr>\n",
              "      <th>hypopituitary</th>\n",
              "      <td>object</td>\n",
              "    </tr>\n",
              "    <tr>\n",
              "      <th>psych</th>\n",
              "      <td>object</td>\n",
              "    </tr>\n",
              "    <tr>\n",
              "      <th>TSH measured</th>\n",
              "      <td>object</td>\n",
              "    </tr>\n",
              "    <tr>\n",
              "      <th>TSH</th>\n",
              "      <td>object</td>\n",
              "    </tr>\n",
              "    <tr>\n",
              "      <th>T3 measured</th>\n",
              "      <td>object</td>\n",
              "    </tr>\n",
              "    <tr>\n",
              "      <th>T3</th>\n",
              "      <td>object</td>\n",
              "    </tr>\n",
              "    <tr>\n",
              "      <th>TT4 measured</th>\n",
              "      <td>object</td>\n",
              "    </tr>\n",
              "    <tr>\n",
              "      <th>TT4</th>\n",
              "      <td>object</td>\n",
              "    </tr>\n",
              "    <tr>\n",
              "      <th>T4U measured</th>\n",
              "      <td>object</td>\n",
              "    </tr>\n",
              "    <tr>\n",
              "      <th>T4U</th>\n",
              "      <td>object</td>\n",
              "    </tr>\n",
              "    <tr>\n",
              "      <th>FTI measured</th>\n",
              "      <td>object</td>\n",
              "    </tr>\n",
              "    <tr>\n",
              "      <th>FTI</th>\n",
              "      <td>object</td>\n",
              "    </tr>\n",
              "    <tr>\n",
              "      <th>TBG measured</th>\n",
              "      <td>object</td>\n",
              "    </tr>\n",
              "    <tr>\n",
              "      <th>TBG</th>\n",
              "      <td>object</td>\n",
              "    </tr>\n",
              "    <tr>\n",
              "      <th>referral source</th>\n",
              "      <td>object</td>\n",
              "    </tr>\n",
              "    <tr>\n",
              "      <th>Condition</th>\n",
              "      <td>object</td>\n",
              "    </tr>\n",
              "  </tbody>\n",
              "</table><br><label><b>dtype:</b> object</label>"
            ]
          },
          "metadata": {},
          "execution_count": 39
        }
      ]
    }
  ]
}