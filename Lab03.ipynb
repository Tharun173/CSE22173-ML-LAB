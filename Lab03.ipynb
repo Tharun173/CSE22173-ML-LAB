{
  "nbformat": 4,
  "nbformat_minor": 0,
  "metadata": {
    "colab": {
      "provenance": [],
      "authorship_tag": "ABX9TyPr9jQKEvSu47oo/OiN+49y",
      "include_colab_link": true
    },
    "kernelspec": {
      "name": "python3",
      "display_name": "Python 3"
    },
    "language_info": {
      "name": "python"
    }
  },
  "cells": [
    {
      "cell_type": "markdown",
      "metadata": {
        "id": "view-in-github",
        "colab_type": "text"
      },
      "source": [
        "<a href=\"https://colab.research.google.com/github/Tharun173/CSE22173-ML-LAB/blob/main/Lab03.ipynb\" target=\"_parent\"><img src=\"https://colab.research.google.com/assets/colab-badge.svg\" alt=\"Open In Colab\"/></a>"
      ]
    },
    {
      "cell_type": "code",
      "execution_count": 8,
      "metadata": {
        "id": "m9o49ioiZS9k"
      },
      "outputs": [],
      "source": [
        "import numpy as np\n",
        "import pandas as pd\n",
        "import matplotlib.pyplot as plt\n",
        "import seaborn as sns\n",
        "\n",
        "import warnings\n",
        "warnings.filterwarnings('ignore')"
      ]
    },
    {
      "cell_type": "code",
      "source": [
        "data=pd.read_excel('/content/ML_lab3.xlsx')\n",
        "group_data=data.groupby('LABEL').mean()\n",
        "print(group_data)"
      ],
      "metadata": {
        "colab": {
          "base_uri": "https://localhost:8080/"
        },
        "id": "i6-6Rz6yn8Yu",
        "outputId": "48de02db-411f-485f-9c97-72d0c99f7978"
      },
      "execution_count": 20,
      "outputs": [
        {
          "output_type": "stream",
          "name": "stdout",
          "text": [
            "                0           1          2            3          4    \\\n",
            "LABEL                                                                \n",
            "3333   35021.971518   30.944450  39.454434  2397.193236  67.341696   \n",
            "3334   38078.659501 -229.109162  64.151173  2651.788417 -39.908549   \n",
            "\n",
            "               5           6          7           8           9    ...  \\\n",
            "LABEL                                                              ...   \n",
            "3333   2574.141938  -16.861991  12.900568    6.350601  -42.267425  ...   \n",
            "3334   2602.989470  510.506887  31.439506  299.883753  114.109798  ...   \n",
            "\n",
            "             186         187        188         189         190        191  \\\n",
            "LABEL                                                                        \n",
            "3333   77.963941  119.175760   9.275924  -88.057115    0.830644  42.055855   \n",
            "3334   29.254359  168.075877 -72.153176 -193.608535 -332.733920  29.749377   \n",
            "\n",
            "              192        193         194         195  \n",
            "LABEL                                                 \n",
            "3333     9.733818  91.755459  -53.070227   43.406243  \n",
            "3334  -302.089126 -36.515134 -108.459160 -138.399487  \n",
            "\n",
            "[2 rows x 196 columns]\n"
          ]
        }
      ]
    },
    {
      "cell_type": "code",
      "source": [
        "interclass_dis=np.linalg.norm(group_data.iloc[0]-group_data.iloc[1])\n",
        "print(interclass_dis)"
      ],
      "metadata": {
        "colab": {
          "base_uri": "https://localhost:8080/"
        },
        "id": "wiKvxglEq5nf",
        "outputId": "79985fa0-6f61-4a02-8996-65c846c95e19"
      },
      "execution_count": 22,
      "outputs": [
        {
          "output_type": "stream",
          "name": "stdout",
          "text": [
            "4194.473313341158\n"
          ]
        }
      ]
    },
    {
      "cell_type": "code",
      "source": [
        "grouped=data.groupby('LABEL')"
      ],
      "metadata": {
        "id": "Qzi2YQ2jrPAL"
      },
      "execution_count": null,
      "outputs": []
    }
  ]
}