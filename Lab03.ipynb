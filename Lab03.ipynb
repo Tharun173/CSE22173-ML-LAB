{
  "nbformat": 4,
  "nbformat_minor": 0,
  "metadata": {
    "colab": {
      "provenance": [],
      "mount_file_id": "https://github.com/Tharun173/CSE22173-ML-LAB/blob/main/Lab03.ipynb",
      "authorship_tag": "ABX9TyMxGG8PGWqbT9OfDoanORjo",
      "include_colab_link": true
    },
    "kernelspec": {
      "name": "python3",
      "display_name": "Python 3"
    },
    "language_info": {
      "name": "python"
    }
  },
  "cells": [
    {
      "cell_type": "markdown",
      "metadata": {
        "id": "view-in-github",
        "colab_type": "text"
      },
      "source": [
        "<a href=\"https://colab.research.google.com/github/Tharun173/CSE22173-ML-LAB/blob/main/Lab03.ipynb\" target=\"_parent\"><img src=\"https://colab.research.google.com/assets/colab-badge.svg\" alt=\"Open In Colab\"/></a>"
      ]
    },
    {
      "cell_type": "code",
      "execution_count": 6,
      "metadata": {
        "id": "m9o49ioiZS9k"
      },
      "outputs": [],
      "source": [
        "import numpy as np\n",
        "import pandas as pd\n",
        "import matplotlib.pyplot as plt\n",
        "import seaborn as sns\n",
        "\n",
        "import warnings\n",
        "warnings.filterwarnings('ignore')"
      ]
    },
    {
      "cell_type": "code",
      "source": [
        "data=pd.read_excel('/content/ML_lab3.xlsx')\n",
        "group_data=data.groupby('LABEL').mean()\n",
        "print(group_data)"
      ],
      "metadata": {
        "colab": {
          "base_uri": "https://localhost:8080/"
        },
        "id": "i6-6Rz6yn8Yu",
        "outputId": "8b661277-0e54-45fb-ccb1-6fc09ca30155"
      },
      "execution_count": 11,
      "outputs": [
        {
          "output_type": "stream",
          "name": "stdout",
          "text": [
            "                0           1          2            3          4    \\\n",
            "LABEL                                                                \n",
            "3333   35021.971518   30.944450  39.454434  2397.193236  67.341696   \n",
            "3334   38078.659501 -229.109162  64.151173  2651.788417 -39.908549   \n",
            "\n",
            "               5           6          7           8           9    ...  \\\n",
            "LABEL                                                              ...   \n",
            "3333   2574.141938  -16.861991  12.900568    6.350601  -42.267425  ...   \n",
            "3334   2602.989470  510.506887  31.439506  299.883753  114.109798  ...   \n",
            "\n",
            "             186         187        188         189         190        191  \\\n",
            "LABEL                                                                        \n",
            "3333   77.963941  119.175760   9.275924  -88.057115    0.830644  42.055855   \n",
            "3334   29.254359  168.075877 -72.153176 -193.608535 -332.733920  29.749377   \n",
            "\n",
            "              192        193         194         195  \n",
            "LABEL                                                 \n",
            "3333     9.733818  91.755459  -53.070227   43.406243  \n",
            "3334  -302.089126 -36.515134 -108.459160 -138.399487  \n",
            "\n",
            "[2 rows x 196 columns]\n"
          ]
        }
      ]
    },
    {
      "cell_type": "code",
      "source": [
        "print(group_data.columns)"
      ],
      "metadata": {
        "colab": {
          "base_uri": "https://localhost:8080/"
        },
        "id": "wiKvxglEq5nf",
        "outputId": "169b8e49-f7fc-4874-e8d8-b2b78d37e5c4"
      },
      "execution_count": 13,
      "outputs": [
        {
          "output_type": "stream",
          "name": "stdout",
          "text": [
            "Index([  0,   1,   2,   3,   4,   5,   6,   7,   8,   9,\n",
            "       ...\n",
            "       186, 187, 188, 189, 190, 191, 192, 193, 194, 195],\n",
            "      dtype='object', length=196)\n"
          ]
        }
      ]
    },
    {
      "cell_type": "code",
      "source": [
        "grouped=data.std(axis=0)\n",
        "print(grouped)"
      ],
      "metadata": {
        "id": "Qzi2YQ2jrPAL",
        "outputId": "a518e28c-2726-4326-bfee-7311bfe8f658",
        "colab": {
          "base_uri": "https://localhost:8080/"
        }
      },
      "execution_count": 19,
      "outputs": [
        {
          "output_type": "stream",
          "name": "stdout",
          "text": [
            "0        5917.164896\n",
            "1         306.192224\n",
            "2         275.838686\n",
            "3         842.676925\n",
            "4         136.697585\n",
            "            ...     \n",
            "192       408.681860\n",
            "193       267.817979\n",
            "194       321.787993\n",
            "195       302.444708\n",
            "LABEL       0.495640\n",
            "Length: 197, dtype: float64\n"
          ]
        }
      ]
    },
    {
      "cell_type": "code",
      "source": [],
      "metadata": {
        "id": "TG8yCUgqdtL2"
      },
      "execution_count": null,
      "outputs": []
    }
  ]
}