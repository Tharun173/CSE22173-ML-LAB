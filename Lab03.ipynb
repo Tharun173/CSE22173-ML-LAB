{
  "nbformat": 4,
  "nbformat_minor": 0,
  "metadata": {
    "colab": {
      "provenance": [],
      "authorship_tag": "ABX9TyNdIhdUP3IMA7uCxqjLbDrZ",
      "include_colab_link": true
    },
    "kernelspec": {
      "name": "python3",
      "display_name": "Python 3"
    },
    "language_info": {
      "name": "python"
    }
  },
  "cells": [
    {
      "cell_type": "markdown",
      "metadata": {
        "id": "view-in-github",
        "colab_type": "text"
      },
      "source": [
        "<a href=\"https://colab.research.google.com/github/Tharun173/CSE22173-ML-LAB/blob/main/Lab03.ipynb\" target=\"_parent\"><img src=\"https://colab.research.google.com/assets/colab-badge.svg\" alt=\"Open In Colab\"/></a>"
      ]
    },
    {
      "cell_type": "code",
      "execution_count": 1,
      "metadata": {
        "id": "m9o49ioiZS9k"
      },
      "outputs": [],
      "source": [
        "import numpy as np\n",
        "import pandas as pd\n",
        "import matplotlib.pyplot as plt\n",
        "import seaborn as sns\n",
        "\n",
        "import warnings\n",
        "warnings.filterwarnings('ignore')"
      ]
    },
    {
      "cell_type": "code",
      "source": [
        "data=pd.read_excel('/content/ML_lab3.xlsx')\n",
        "group_data=data.groupby('LABEL').mean()\n",
        "print(group_data)"
      ],
      "metadata": {
        "colab": {
          "base_uri": "https://localhost:8080/"
        },
        "id": "i6-6Rz6yn8Yu",
        "outputId": "683b1ec2-4966-414e-c57b-79da18e2a258"
      },
      "execution_count": 2,
      "outputs": [
        {
          "output_type": "stream",
          "name": "stdout",
          "text": [
            "                0           1          2            3          4    \\\n",
            "LABEL                                                                \n",
            "3333   35021.971518   30.944450  39.454434  2397.193236  67.341696   \n",
            "3334   38078.659501 -229.109162  64.151173  2651.788417 -39.908549   \n",
            "\n",
            "               5           6          7           8           9    ...  \\\n",
            "LABEL                                                              ...   \n",
            "3333   2574.141938  -16.861991  12.900568    6.350601  -42.267425  ...   \n",
            "3334   2602.989470  510.506887  31.439506  299.883753  114.109798  ...   \n",
            "\n",
            "             186         187        188         189         190        191  \\\n",
            "LABEL                                                                        \n",
            "3333   77.963941  119.175760   9.275924  -88.057115    0.830644  42.055855   \n",
            "3334   29.254359  168.075877 -72.153176 -193.608535 -332.733920  29.749377   \n",
            "\n",
            "              192        193         194         195  \n",
            "LABEL                                                 \n",
            "3333     9.733818  91.755459  -53.070227   43.406243  \n",
            "3334  -302.089126 -36.515134 -108.459160 -138.399487  \n",
            "\n",
            "[2 rows x 196 columns]\n"
          ]
        }
      ]
    },
    {
      "cell_type": "code",
      "source": [
        "print(group_data.columns)"
      ],
      "metadata": {
        "colab": {
          "base_uri": "https://localhost:8080/"
        },
        "id": "wiKvxglEq5nf",
        "outputId": "6f492fbc-9a22-4310-9d24-859bacb06b00"
      },
      "execution_count": 3,
      "outputs": [
        {
          "output_type": "stream",
          "name": "stdout",
          "text": [
            "Index([  0,   1,   2,   3,   4,   5,   6,   7,   8,   9,\n",
            "       ...\n",
            "       186, 187, 188, 189, 190, 191, 192, 193, 194, 195],\n",
            "      dtype='object', length=196)\n"
          ]
        }
      ]
    },
    {
      "cell_type": "code",
      "source": [
        "grouped=data.std(axis=0)\n",
        "print(grouped)"
      ],
      "metadata": {
        "id": "Qzi2YQ2jrPAL",
        "colab": {
          "base_uri": "https://localhost:8080/"
        },
        "outputId": "5e86f486-3b12-47c4-b7ed-6971a0583af6"
      },
      "execution_count": 4,
      "outputs": [
        {
          "output_type": "stream",
          "name": "stdout",
          "text": [
            "0        5917.164896\n",
            "1         306.192224\n",
            "2         275.838686\n",
            "3         842.676925\n",
            "4         136.697585\n",
            "            ...     \n",
            "192       408.681860\n",
            "193       267.817979\n",
            "194       321.787993\n",
            "195       302.444708\n",
            "LABEL       0.495640\n",
            "Length: 197, dtype: float64\n"
          ]
        }
      ]
    },
    {
      "cell_type": "code",
      "source": [
        "sns.displot(data[0])"
      ],
      "metadata": {
        "colab": {
          "base_uri": "https://localhost:8080/",
          "height": 523
        },
        "id": "TG8yCUgqdtL2",
        "outputId": "1a74b12a-4fd6-4dbb-d072-490ed0eaad45"
      },
      "execution_count": 5,
      "outputs": [
        {
          "output_type": "execute_result",
          "data": {
            "text/plain": [
              "<seaborn.axisgrid.FacetGrid at 0x7d6310e76b90>"
            ]
          },
          "metadata": {},
          "execution_count": 5
        },
        {
          "output_type": "display_data",
          "data": {
            "text/plain": [
              "<Figure size 500x500 with 1 Axes>"
            ],
            "image/png": "[encoded data removed]"
          },
          "metadata": {}
        }
      ]
    },
    {
      "cell_type": "code",
      "source": [
        "def mink_dist(p,q,r):\n",
        "  return np.sum(np.abs(p-q)**r)**(1/r)\n",
        "\n",
        "p=data[0]\n",
        "q=data[1]\n",
        "distances=[mink_dist(p,q,r) for r in range(1,10)]\n",
        "\n",
        "x=np.linspace(1,10,9)\n",
        "plt.plot(x,distances)\n",
        "plt.xlabel('r')\n",
        "plt.ylabel('distance')\n",
        "plt.show()"
      ],
      "metadata": {
        "id": "0OsgfoVQocBr",
        "outputId": "dc430ba7-30c2-47fa-d7cd-8180e3686b9e",
        "colab": {
          "base_uri": "https://localhost:8080/",
          "height": 465
        }
      },
      "execution_count": 6,
      "outputs": [
        {
          "output_type": "display_data",
          "data": {
            "text/plain": [
              "<Figure size 640x480 with 1 Axes>"
            ],
            "image/png": "[encoded data removed]"
          },
          "metadata": {}
        }
      ]
    },
    {
      "cell_type": "code",
      "source": [
        "\n",
        "from sklearn.model_selection import train_test_split\n"
      ],
      "metadata": {
        "id": "_cZxUhj62bYz"
      },
      "execution_count": 7,
      "outputs": []
    },
    {
      "cell_type": "code",
      "source": [
        "X=data.drop(columns=['LABEL'],axis=1)\n",
        "Y=data['LABEL']\n",
        "X_train,X_test,Y_train,Y_test=train_test_split(X,Y,test_size=0.3,random_state=2)"
      ],
      "metadata": {
        "id": "fqvr2MKl9FKM"
      },
      "execution_count": 8,
      "outputs": []
    },
    {
      "cell_type": "code",
      "source": [
        "from sklearn.neighbors import KNeighborsClassifier\n",
        "from sklearn.metrics import accuracy_score\n",
        "\n",
        "knn=KNeighborsClassifier(n_neighbors=3)\n",
        "knn.fit(X_train,Y_train)"
      ],
      "metadata": {
        "id": "gtG5nHUr9-FD",
        "outputId": "37300b8d-bc4c-4426-c1d7-fd533a249a75",
        "colab": {
          "base_uri": "https://localhost:8080/",
          "height": 74
        }
      },
      "execution_count": 9,
      "outputs": [
        {
          "output_type": "execute_result",
          "data": {
            "text/plain": [
              "KNeighborsClassifier(n_neighbors=3)"
            ],
            "text/html": [
              "<style>#sk-container-id-1 {color: black;}#sk-container-id-1 pre{padding: 0;}#sk-container-id-1 div.sk-toggleable {background-color: white;}#sk-container-id-1 label.sk-toggleable__label {cursor: pointer;display: block;width: 100%;margin-bottom: 0;padding: 0.3em;box-sizing: border-box;text-align: center;}#sk-container-id-1 label.sk-toggleable__label-arrow:before {content: \"▸\";float: left;margin-right: 0.25em;color: #696969;}#sk-container-id-1 label.sk-toggleable__label-arrow:hover:before {color: black;}#sk-container-id-1 div.sk-estimator:hover label.sk-toggleable__label-arrow:before {color: black;}#sk-container-id-1 div.sk-toggleable__content {max-height: 0;max-width: 0;overflow: hidden;text-align: left;background-color: #f0f8ff;}#sk-container-id-1 div.sk-toggleable__content pre {margin: 0.2em;color: black;border-radius: 0.25em;background-color: #f0f8ff;}#sk-container-id-1 input.sk-toggleable__control:checked~div.sk-toggleable__content {max-height: 200px;max-width: 100%;overflow: auto;}#sk-container-id-1 input.sk-toggleable__control:checked~label.sk-toggleable__label-arrow:before {content: \"▾\";}#sk-container-id-1 div.sk-estimator input.sk-toggleable__control:checked~label.sk-toggleable__label {background-color: #d4ebff;}#sk-container-id-1 div.sk-label input.sk-toggleable__control:checked~label.sk-toggleable__label {background-color: #d4ebff;}#sk-container-id-1 input.sk-hidden--visually {border: 0;clip: rect(1px 1px 1px 1px);clip: rect(1px, 1px, 1px, 1px);height: 1px;margin: -1px;overflow: hidden;padding: 0;position: absolute;width: 1px;}#sk-container-id-1 div.sk-estimator {font-family: monospace;background-color: #f0f8ff;border: 1px dotted black;border-radius: 0.25em;box-sizing: border-box;margin-bottom: 0.5em;}#sk-container-id-1 div.sk-estimator:hover {background-color: #d4ebff;}#sk-container-id-1 div.sk-parallel-item::after {content: \"\";width: 100%;border-bottom: 1px solid gray;flex-grow: 1;}#sk-container-id-1 div.sk-label:hover label.sk-toggleable__label {background-color: #d4ebff;}#sk-container-id-1 div.sk-serial::before {content: \"\";position: absolute;border-left: 1px solid gray;box-sizing: border-box;top: 0;bottom: 0;left: 50%;z-index: 0;}#sk-container-id-1 div.sk-serial {display: flex;flex-direction: column;align-items: center;background-color: white;padding-right: 0.2em;padding-left: 0.2em;position: relative;}#sk-container-id-1 div.sk-item {position: relative;z-index: 1;}#sk-container-id-1 div.sk-parallel {display: flex;align-items: stretch;justify-content: center;background-color: white;position: relative;}#sk-container-id-1 div.sk-item::before, #sk-container-id-1 div.sk-parallel-item::before {content: \"\";position: absolute;border-left: 1px solid gray;box-sizing: border-box;top: 0;bottom: 0;left: 50%;z-index: -1;}#sk-container-id-1 div.sk-parallel-item {display: flex;flex-direction: column;z-index: 1;position: relative;background-color: white;}#sk-container-id-1 div.sk-parallel-item:first-child::after {align-self: flex-end;width: 50%;}#sk-container-id-1 div.sk-parallel-item:last-child::after {align-self: flex-start;width: 50%;}#sk-container-id-1 div.sk-parallel-item:only-child::after {width: 0;}#sk-container-id-1 div.sk-dashed-wrapped {border: 1px dashed gray;margin: 0 0.4em 0.5em 0.4em;box-sizing: border-box;padding-bottom: 0.4em;background-color: white;}#sk-container-id-1 div.sk-label label {font-family: monospace;font-weight: bold;display: inline-block;line-height: 1.2em;}#sk-container-id-1 div.sk-label-container {text-align: center;}#sk-container-id-1 div.sk-container {/* jupyter's `normalize.less` sets `[hidden] { display: none; }` but bootstrap.min.css set `[hidden] { display: none !important; }` so we also need the `!important` here to be able to override the default hidden behavior on the sphinx rendered scikit-learn.org. See: https://github.com/scikit-learn/scikit-learn/issues/21755 */display: inline-block !important;position: relative;}#sk-container-id-1 div.sk-text-repr-fallback {display: none;}</style><div id=\"sk-container-id-1\" class=\"sk-top-container\"><div class=\"sk-text-repr-fallback\"><pre>KNeighborsClassifier(n_neighbors=3)</pre><b>In a Jupyter environment, please rerun this cell to show the HTML representation or trust the notebook. <br />On GitHub, the HTML representation is unable to render, please try loading this page with nbviewer.org.</b></div><div class=\"sk-container\" hidden><div class=\"sk-item\"><div class=\"sk-estimator sk-toggleable\"><input class=\"sk-toggleable__control sk-hidden--visually\" id=\"sk-estimator-id-1\" type=\"checkbox\" checked><label for=\"sk-estimator-id-1\" class=\"sk-toggleable__label sk-toggleable__label-arrow\">KNeighborsClassifier</label><div class=\"sk-toggleable__content\"><pre>KNeighborsClassifier(n_neighbors=3)</pre></div></div></div></div></div>"
            ]
          },
          "metadata": {},
          "execution_count": 9
        }
      ]
    },
    {
      "cell_type": "code",
      "source": [
        "knn.score(X_test,Y_test)"
      ],
      "metadata": {
        "id": "DQUIq1k7_wDn",
        "outputId": "a5a7a25e-5be9-4d05-cfc1-b64a5dd878cc",
        "colab": {
          "base_uri": "https://localhost:8080/"
        }
      },
      "execution_count": 10,
      "outputs": [
        {
          "output_type": "execute_result",
          "data": {
            "text/plain": [
              "1.0"
            ]
          },
          "metadata": {},
          "execution_count": 10
        }
      ]
    },
    {
      "cell_type": "code",
      "source": [
        "knn.predict(X_test)"
      ],
      "metadata": {
        "id": "BbVPy5WRAL0v",
        "outputId": "48bbb547-7a74-4fd3-9ce2-d50c7e2f2b54",
        "colab": {
          "base_uri": "https://localhost:8080/"
        }
      },
      "execution_count": 11,
      "outputs": [
        {
          "output_type": "execute_result",
          "data": {
            "text/plain": [
              "array([3333, 3333, 3334, 3333, 3333, 3333, 3334, 3333, 3334, 3334, 3334,\n",
              "       3333, 3333, 3333, 3333, 3333, 3333, 3333, 3334, 3333, 3333, 3334,\n",
              "       3333, 3334, 3334, 3333, 3334])"
            ]
          },
          "metadata": {},
          "execution_count": 11
        }
      ]
    },
    {
      "cell_type": "code",
      "source": [
        "knn=KNeighborsClassifier(n_neighbors=5)\n",
        "knn.fit(X_train,Y_train)\n",
        "knn.score(X_test,Y_test)"
      ],
      "metadata": {
        "id": "Q0GuTZEtAPx5",
        "outputId": "cf3a39d8-b0eb-44fc-9a24-17938cdf349b",
        "colab": {
          "base_uri": "https://localhost:8080/"
        }
      },
      "execution_count": 12,
      "outputs": [
        {
          "output_type": "execute_result",
          "data": {
            "text/plain": [
              "0.9629629629629629"
            ]
          },
          "metadata": {},
          "execution_count": 12
        }
      ]
    },
    {
      "cell_type": "code",
      "source": [
        "def accuaracy_data1(X_train,Y_train,X_test,Y_test,N):\n",
        "  knn=KNeighborsClassifier(n_neighbors=N)\n",
        "  knn.fit(X_train,Y_train)\n",
        "  pred=knn.predict(X_test)\n",
        "  return accuracy_score(pred,Y_test)\n",
        "\n",
        "list_accuracy=[accuaracy_data1(X_train,Y_train,X_test,Y_test,N) for N in range(1,11)]\n",
        "x=np.linspace(1,11,10)\n",
        "plt.plot(x,list_accuracy)\n",
        "plt.xlabel('K')\n",
        "plt.ylabel('ACCURACYDATA')\n",
        "plt.show()"
      ],
      "metadata": {
        "id": "zyi8YquUBa68",
        "outputId": "9044fd43-beb1-4a89-ae18-e156798e7447",
        "colab": {
          "base_uri": "https://localhost:8080/",
          "height": 449
        }
      },
      "execution_count": 13,
      "outputs": [
        {
          "output_type": "display_data",
          "data": {
            "text/plain": [
              "<Figure size 640x480 with 1 Axes>"
            ],
            "image/png": "[encoded data removed]"
          },
          "metadata": {}
        }
      ]
    },
    {
      "cell_type": "code",
      "source": [
        "from sklearn.metrics import confusion_matrix,classification_report\n",
        "cm=confusion_matrix(Y_test,knn.predict(X_test))\n",
        "print(cm)"
      ],
      "metadata": {
        "id": "ftMa6vzMB6rs",
        "colab": {
          "base_uri": "https://localhost:8080/"
        },
        "outputId": "14b2d2de-1bbe-4e94-977f-921eca3cab72"
      },
      "execution_count": 14,
      "outputs": [
        {
          "output_type": "stream",
          "name": "stdout",
          "text": [
            "[[16  1]\n",
            " [ 0 10]]\n"
          ]
        }
      ]
    },
    {
      "cell_type": "markdown",
      "source": [
        "IT IS REGULAR FIT"
      ],
      "metadata": {
        "id": "4fSoIYWUgeGF"
      }
    },
    {
      "cell_type": "code",
      "source": [
        "print(classification_report(Y_test,knn.predict(X_test)))"
      ],
      "metadata": {
        "colab": {
          "base_uri": "https://localhost:8080/"
        },
        "id": "GEZzShPVgRRy",
        "outputId": "cfec070a-0c70-489d-913e-7de1a0dcc3cc"
      },
      "execution_count": 15,
      "outputs": [
        {
          "output_type": "stream",
          "name": "stdout",
          "text": [
            "              precision    recall  f1-score   support\n",
            "\n",
            "        3333       1.00      0.94      0.97        17\n",
            "        3334       0.91      1.00      0.95        10\n",
            "\n",
            "    accuracy                           0.96        27\n",
            "   macro avg       0.95      0.97      0.96        27\n",
            "weighted avg       0.97      0.96      0.96        27\n",
            "\n"
          ]
        }
      ]
    }
  ]
}